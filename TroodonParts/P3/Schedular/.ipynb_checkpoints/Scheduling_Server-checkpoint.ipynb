{
 "cells": [
  {
   "cell_type": "code",
   "execution_count": 13,
   "id": "adjacent-leadership",
   "metadata": {},
   "outputs": [
    {
     "name": "stdout",
     "output_type": "stream",
     "text": [
      "Sun Apr 18 00:20:12 2021\n",
      "Sun Apr 18 00:20:17 2021\n",
      "Sun Apr 18 00:20:22 2021\n",
      "Sun Apr 18 00:20:27 2021\n",
      "Sun Apr 18 00:20:32 2021\n"
     ]
    }
   ],
   "source": [
    "import time\n",
    "time.time()\n",
    "for count in range(5):\n",
    "    print(time.ctime())\n",
    "    # Prints the current time with a five second difference\n",
    "    time.sleep(5)"
   ]
  },
  {
   "cell_type": "markdown",
   "id": "blank-tissue",
   "metadata": {},
   "source": [
    "### Server"
   ]
  },
  {
   "cell_type": "code",
   "execution_count": 23,
   "id": "bizarre-google",
   "metadata": {},
   "outputs": [],
   "source": [
    "import sys\n",
    "\n",
    "'''\n",
    "Args\n",
    "'''\n",
    "base=\"/home/user-admin/Pictures/StaticCodeAnalyzer-master/\"\n",
    "id=1245679\n",
    "\n",
    "'''\n",
    "Reading program files\n",
    "'''\n",
    "with open(base+\"Output/\"+str(id)+\"_class.txt\", \"r\") as f:\n",
    "    _class = int(f.read().strip())\n",
    "with open(base+\"Output/\"+str(id)+\"_speed_up.txt\", \"r\") as f:\n",
    "    _speed_up = float(f.read().strip())\n",
    "    \n",
    "'''\n",
    "Creating program dictionary\n",
    "'''\n",
    "Program_Dict={\"Id\":id,\"Class\":_class,\"Speed_up\":_speed_up}\n"
   ]
  },
  {
   "cell_type": "code",
   "execution_count": 52,
   "id": "isolated-currency",
   "metadata": {},
   "outputs": [],
   "source": [
    "'''\n",
    "Reading and saving waiting list\n",
    "'''\n",
    "Program_Found=False\n",
    "Waiting_List_CPU=[]\n",
    "Waiting_List_GPU=[]\n",
    "\n",
    "with open(base+\"Output/\"+'Waiting.csv', 'r') as f_object:\n",
    "    while(True):\n",
    "        temp_val=f_object.readline().strip()\n",
    "        \n",
    "        '''\n",
    "        Checks csv file end\n",
    "        '''\n",
    "        if(temp_val==\"\"):\n",
    "            break\n",
    "        \n",
    "        '''\n",
    "        Setting values after splitting\n",
    "        '''\n",
    "        temp_split=temp_val.split(',')\n",
    "        temp_id=int(temp_split[0])\n",
    "        temp_class=int(temp_split[1])\n",
    "        temp_speed_up=float(temp_split[2])\n",
    "        \n",
    "        '''\n",
    "        Creating dictionary\n",
    "        '''\n",
    "        Temp_Program_Dict={\"Id\":temp_id,\"Class\":temp_class,\"Speed_up\":temp_speed_up}\n",
    "        \n",
    "        '''\n",
    "        Checks if program matches\n",
    "        '''\n",
    "        if(temp_id==Program_Dict[\"Id\"]):\n",
    "            Program_Found=True\n",
    "            \n",
    "        '''\n",
    "        Adding dictionary in respective list\n",
    "        '''\n",
    "        if(temp_class==0):\n",
    "            Waiting_List_CPU.append(Temp_Program_Dict)\n",
    "        elif(temp_class==1):\n",
    "            Waiting_List_GPU.append(Temp_Program_Dict)\n",
    "            \n",
    "    '''\n",
    "    Adding new program in waiting list and saving wait status -1\n",
    "    '''\n",
    "    if(Program_Found==False):\n",
    "        if(Program_Dict[\"Class\"]==0):\n",
    "            Waiting_List_CPU.append(Program_Dict)\n",
    "        elif(Program_Dict[\"Class\"]==1):\n",
    "            Waiting_List_GPU.append(Program_Dict)\n",
    "        with open(base+\"Output/\"+str(id)+'.txt', 'w') as f_object:\n",
    "            f_object.write('-1')\n",
    "            f_object.close()"
   ]
  },
  {
   "cell_type": "code",
   "execution_count": 120,
   "id": "billion-belgium",
   "metadata": {},
   "outputs": [],
   "source": [
    "'''\n",
    "Sorting and saving waiting queue in list\n",
    "'''\n",
    "Waiting_List=sorted(Waiting_List_CPU, key=lambda k: k['Speed_up'], reverse=True)+sorted(Waiting_List_GPU, key=lambda k: k['Speed_up'], reverse=False)\n"
   ]
  },
  {
   "cell_type": "code",
   "execution_count": 121,
   "id": "parallel-sister",
   "metadata": {},
   "outputs": [],
   "source": [
    "'''\n",
    "Getting cpu and gpu perecentage\n",
    "'''\n",
    "import psutil\n",
    "cpu_perecentage=psutil.cpu_percent(interval=1,percpu=False)\n",
    "#code for gpu percentage here to be added\n",
    "gpu_perecentage=50.0\n"
   ]
  },
  {
   "cell_type": "code",
   "execution_count": 122,
   "id": "turned-plant",
   "metadata": {},
   "outputs": [],
   "source": [
    "'''\n",
    "Assigning waiting program devices\n",
    "'''\n",
    "if(gpu_perecentage<70 and len(Waiting_List)>0):\n",
    "    gpu_run=Waiting_List.pop(-1)\n",
    "else:\n",
    "    gpu_run=0\n",
    "if(cpu_perecentage<70 and len(Waiting_List)>0):\n",
    "    cpu_run=Waiting_List.pop(0)\n",
    "else:\n",
    "    cpu_run=0\n",
    "if(gpu_run!=0):\n",
    "    with open(base+\"Output/\"+str(gpu_run[\"Id\"])+'.txt', 'w') as f_object:\n",
    "        f_object.write('1')\n",
    "        f_object.close()\n",
    "if(cpu_run!=0):\n",
    "    with open(base+\"Output/\"+str(cpu_run[\"Id\"])+'.txt', 'w') as f_object:\n",
    "        f_object.write('0')\n",
    "        f_object.close()"
   ]
  },
  {
   "cell_type": "code",
   "execution_count": 132,
   "id": "blond-residence",
   "metadata": {},
   "outputs": [],
   "source": [
    "'''\n",
    "Saving waiting list\n",
    "'''\n",
    "\n",
    "with open(base+\"Output/\"+'Waiting.csv', 'w') as f_object:\n",
    "    for val in Waiting_List:\n",
    "        t=str(val['Id'])+\",\"+str(val['Class'])+\",\"+str(val['Speed_up'])+\"\\n\"\n",
    "        f_object.write(t)\n",
    "    f_object.close()"
   ]
  },
  {
   "cell_type": "code",
   "execution_count": null,
   "id": "fifth-garlic",
   "metadata": {},
   "outputs": [],
   "source": []
  }
 ],
 "metadata": {
  "kernelspec": {
   "display_name": "Python 3",
   "language": "python",
   "name": "python3"
  },
  "language_info": {
   "codemirror_mode": {
    "name": "ipython",
    "version": 3
   },
   "file_extension": ".py",
   "mimetype": "text/x-python",
   "name": "python",
   "nbconvert_exporter": "python",
   "pygments_lexer": "ipython3",
   "version": "3.6.9"
  }
 },
 "nbformat": 4,
 "nbformat_minor": 5
}
