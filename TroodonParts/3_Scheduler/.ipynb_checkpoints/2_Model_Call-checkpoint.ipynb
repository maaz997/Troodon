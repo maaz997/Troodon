{
 "cells": [
  {
   "cell_type": "code",
   "execution_count": 18,
   "id": "selective-ratio",
   "metadata": {},
   "outputs": [],
   "source": [
    "import os\n",
    "import sys"
   ]
  },
  {
   "cell_type": "code",
   "execution_count": 22,
   "id": "alleged-perth",
   "metadata": {},
   "outputs": [],
   "source": [
    "# id = sys.argv[1]\n",
    "# size = sys.argv[2]\n",
    "id = 10238989\n",
    "size = 10500\n"
   ]
  },
  {
   "cell_type": "code",
   "execution_count": 19,
   "id": "chief-heritage",
   "metadata": {},
   "outputs": [],
   "source": [
    "# Reading System Details\n",
    "with open(\"../Data/Setup/System_Setup\", \"r\") as f:\n",
    "    file = f.readlines()\n",
    "Temp = []\n",
    "for f in file:\n",
    "    if f.strip() is '':\n",
    "        continue\n",
    "    Temp.append(f.split(\"=\")[-1].strip())  \n",
    "\n",
    "_Path = Temp[0]\n",
    "_Ram = Temp[1]\n",
    "_CPU_Rank = Temp[2]\n",
    "_GPU_Rank = Temp[3]\n",
    "_CPU_Platform = Temp[4]\n",
    "_GPU_Platform = Temp[5]\n",
    "_CPU = 0\n",
    "_GPU = 1\n",
    "\n",
    "Temp.clear()"
   ]
  },
  {
   "cell_type": "code",
   "execution_count": 23,
   "id": "liquid-content",
   "metadata": {},
   "outputs": [
    {
     "name": "stdout",
     "output_type": "stream",
     "text": [
      "[1, 0, 0, 2, 1, 0, 1, 1, 0, 0, 0, 1, 1, 0, 0, 2, 4, 1, 13, 8, 13, 0, 0, 8, 2000, 1000, 10500]\n"
     ]
    }
   ],
   "source": [
    "#Reading Features\n",
    "with open(\"../Data/Features/Temp/\"+str(id)+\".txt\", \"r\") as f:\n",
    "    file = f.readlines()\n",
    "    \n",
    "features = []\n",
    "for f in file:\n",
    "    if \"Log\" in f or f.strip() is '':\n",
    "        continue\n",
    "    features.append(  int( f.split(\":\")[-1].strip()) ) \n",
    "features.append(int(_Ram)) \n",
    "features.append(int(_CPU_Rank)) \n",
    "features.append(int(_GPU_Rank))\n",
    "features.append(int(size))\n",
    "print(features)"
   ]
  },
  {
   "cell_type": "code",
   "execution_count": 24,
   "id": "accomplished-karma",
   "metadata": {},
   "outputs": [
    {
     "name": "stdout",
     "output_type": "stream",
     "text": [
      "1\n"
     ]
    }
   ],
   "source": [
    "# Loading Device classifier\n",
    "import pickle\n",
    "with open(\"../2_Model_Trainer/trained_classifier.pkl\", 'rb') as fid:\n",
    "    clf = pickle.load(fid)\n",
    "class_ =  clf.predict(  [features] )[0]\n",
    "print(class_)"
   ]
  },
  {
   "cell_type": "code",
   "execution_count": 25,
   "id": "broke-audience",
   "metadata": {},
   "outputs": [
    {
     "name": "stdout",
     "output_type": "stream",
     "text": [
      "0.05324350780158729\n"
     ]
    }
   ],
   "source": [
    "# Loading Speedup Regressor\n",
    "import pickle\n",
    "with open(\"../2_Model_Trainer/trained_regressor.pkl\", 'rb') as fid:\n",
    "    regr = pickle.load(fid)\n",
    "    \n",
    "speed_up = regr.predict( [features] )[0]\n",
    "print(speed_up)"
   ]
  },
  {
   "cell_type": "code",
   "execution_count": 33,
   "id": "stainless-lodging",
   "metadata": {},
   "outputs": [],
   "source": [
    "# Saving Data\n",
    "with open(\"../Data/3/\"+str(id)+\".csv\", \"w\") as f:\n",
    "    f.write( str(features)[1:-1] + \"\\n\" )\n",
    "    f.write( str(class_) + \"\\n\" )\n",
    "    f.write( str(speed_up) + \"\\n\" )"
   ]
  },
  {
   "cell_type": "code",
   "execution_count": null,
   "id": "upper-fleet",
   "metadata": {},
   "outputs": [],
   "source": []
  }
 ],
 "metadata": {
  "kernelspec": {
   "display_name": "Python 3",
   "language": "python",
   "name": "python3"
  },
  "language_info": {
   "codemirror_mode": {
    "name": "ipython",
    "version": 3
   },
   "file_extension": ".py",
   "mimetype": "text/x-python",
   "name": "python",
   "nbconvert_exporter": "python",
   "pygments_lexer": "ipython3",
   "version": "3.6.9"
  }
 },
 "nbformat": 4,
 "nbformat_minor": 5
}
