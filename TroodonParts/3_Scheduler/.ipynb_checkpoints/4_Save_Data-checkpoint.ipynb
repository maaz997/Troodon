{
 "cells": [
  {
   "cell_type": "code",
   "execution_count": 20,
   "id": "independent-bookmark",
   "metadata": {},
   "outputs": [],
   "source": [
    "import os\n",
    "import sys"
   ]
  },
  {
   "cell_type": "code",
   "execution_count": 21,
   "id": "attended-credits",
   "metadata": {},
   "outputs": [],
   "source": [
    "# _Date = str(sys.argv[1])\n",
    "# _Time = str(sys.argv[2])\n",
    "# _Wait = str(sys.argv[3])\n",
    "# _Exec = str(sys.argv[4])\n",
    "# _Selc = str(sys.argv[5])\n",
    "# _PrId = str(sys.argv[6])\n",
    "_Date = \"17-3-2021\"\n",
    "_Time = \"21-10-21\"\n",
    "_Wait = \"0.000212\"\n",
    "_Exec = \"0.225832\"\n",
    "_Selc = \"1\"\n",
    "_PrId = \"24144601\""
   ]
  },
  {
   "cell_type": "code",
   "execution_count": 22,
   "id": "lovely-attention",
   "metadata": {},
   "outputs": [],
   "source": [
    "with open(\"../Data/3/\"+_PrId+\".txt\", \"r\") as f:\n",
    "    fr = f.read().split(',')\n",
    "_Features = str(fr[0])\n",
    "_Device = str(fr[1])\n",
    "_Speed_up = str(fr[2])"
   ]
  },
  {
   "cell_type": "code",
   "execution_count": 23,
   "id": "sustainable-girlfriend",
   "metadata": {},
   "outputs": [],
   "source": [
    "os.remove(\"../Data/3/\"+_PrId+\".txt\")"
   ]
  },
  {
   "cell_type": "code",
   "execution_count": 24,
   "id": "radical-physiology",
   "metadata": {},
   "outputs": [],
   "source": [
    "with open(\"../Data/3/Exec_History.csv\", \"a\") as f:\n",
    "    f.write(_Date+\",\")\n",
    "    f.write(_Time+\",\")\n",
    "    f.write(_Features+\",\")\n",
    "    f.write(_Device+\",\")\n",
    "    f.write(_Speed_up+\",\")\n",
    "    f.write(_Selc+\",\")\n",
    "    f.write(_Wait+\",\")\n",
    "    f.write(_Exec+\"\\n\")"
   ]
  },
  {
   "cell_type": "code",
   "execution_count": null,
   "id": "assured-politics",
   "metadata": {},
   "outputs": [],
   "source": []
  }
 ],
 "metadata": {
  "kernelspec": {
   "display_name": "Python 3",
   "language": "python",
   "name": "python3"
  },
  "language_info": {
   "codemirror_mode": {
    "name": "ipython",
    "version": 3
   },
   "file_extension": ".py",
   "mimetype": "text/x-python",
   "name": "python",
   "nbconvert_exporter": "python",
   "pygments_lexer": "ipython3",
   "version": "3.6.9"
  }
 },
 "nbformat": 4,
 "nbformat_minor": 5
}
