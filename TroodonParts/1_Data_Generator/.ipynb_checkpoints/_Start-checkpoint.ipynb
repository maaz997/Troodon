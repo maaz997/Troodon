{
 "cells": [
  {
   "cell_type": "code",
   "execution_count": 1,
   "id": "stuffed-hearing",
   "metadata": {},
   "outputs": [],
   "source": [
    "import os"
   ]
  },
  {
   "cell_type": "code",
   "execution_count": 2,
   "id": "identical-riding",
   "metadata": {},
   "outputs": [],
   "source": [
    "# Reading System Details\n",
    "with open(\"../Data/Setup/System_Setup\", \"r\") as f:\n",
    "    file = f.readlines()\n",
    "Temp = []\n",
    "for f in file:\n",
    "    if f.strip() is '':\n",
    "        continue\n",
    "    Temp.append(f.split(\"=\")[-1].strip())  \n",
    "\n",
    "_Path = Temp[0]\n",
    "_Ram = Temp[1]\n",
    "_CPU_Rank = Temp[2]\n",
    "_GPU_Rank = Temp[3]\n",
    "_CPU_Platform = Temp[4]\n",
    "_GPU_Platform = Temp[5]\n",
    "_CPU = 0\n",
    "_GPU = 1\n",
    "\n",
    "Temp.clear()\n",
    "\n",
    "# Reading Program Details\n",
    "with open(\"../Data/Setup/Training_Programs.csv\", \"r\") as f:\n",
    "    file = f.readlines()\n",
    "_Programs = []\n",
    "for i in range(1,len(file)):\n",
    "    _Programs.append(file[i].strip().split(','))"
   ]
  },
  {
   "cell_type": "code",
   "execution_count": 3,
   "id": "regular-picture",
   "metadata": {},
   "outputs": [],
   "source": [
    "# Extracting Features of Read Programs\n",
    "_Features = []\n",
    "for i in range(0,len(_Programs)):\n",
    "    # Feature extraction cmd\n",
    "    cmd = \"python \"+_Path+\"/0_Feature_Extractor/Extract_Features.py \"+_Path+\"/1_Data_Generator/\"+_Programs[i][2]+\" \"+_Programs[i][0]\n",
    "    os.system(cmd)\n",
    "    # Program compilation cmd\n",
    "    cmd = \"g++ \"+_Path+\"/1_Data_Generator/\"+_Programs[i][1]+\" -lOpenCL -L$AMDAPPSDKROOT/lib/x86_64 -o \"+_Path+\"/1_Data_Generator/\"+_Programs[i][0]+\".out\"\n",
    "    os.system(cmd)\n",
    "    \n",
    "    with open(\"../Data/Features/\"+_Programs[i][0]+\".txt\", \"r\") as f:\n",
    "        file = f.readlines()\n",
    "    features = []\n",
    "    for f in file:\n",
    "        if \"Log\" in f or f.strip() is '':\n",
    "            continue\n",
    "        features.append(int( f.split(\":\")[-1].strip())) \n",
    "    features.append(int(_Ram)) \n",
    "    features.append(int(_CPU_Rank)) \n",
    "    features.append(int(_GPU_Rank)) \n",
    "    temp_F=\"\"\n",
    "    for val in features:\n",
    "        temp_F+=str(val)\n",
    "        temp_F+=\"-\"\n",
    "    _Features.append(temp_F)"
   ]
  },
  {
   "cell_type": "code",
   "execution_count": 5,
   "id": "searching-combination",
   "metadata": {},
   "outputs": [
    {
     "name": "stdout",
     "output_type": "stream",
     "text": [
      "7000\n"
     ]
    }
   ],
   "source": [
    "#Training Data Setup\n",
    "Min_Size = 10000\n",
    "Max_Size = 17000\n",
    "Examples_per_program = 2\n",
    "Repeation_Time = 1\n",
    "_Jump = (Max_Size-Min_Size)/(Examples_per_program-1)\n",
    "print(int(_Jump))"
   ]
  },
  {
   "cell_type": "code",
   "execution_count": 6,
   "id": "international-discount",
   "metadata": {},
   "outputs": [],
   "source": [
    "#Converting features list to string\n",
    "pause_feature = \"\"\n",
    "for val in _Features:\n",
    "    pause_feature+=val+\",\"\n",
    "pause_feature = pause_feature[:len(pause_feature)-1]\n",
    "#Converting programs list to string\n",
    "pause_programs = \"\"\n",
    "for _program in _Programs:\n",
    "    for val in _program:\n",
    "        pause_programs += val+\"-\"\n",
    "    pause_programs = pause_programs[:len(pause_programs)-1]+\",\"\n",
    "pause_programs = pause_programs[:len(pause_programs)-1]\n",
    "#Saving data for resuming\n",
    "with open(\"../Data/1/Resume_Data.txt\", \"w\") as f:\n",
    "    f.write(str(pause_programs)+\"\\n\")\n",
    "    f.write(str(pause_feature)+\"\\n\")\n",
    "    f.write(str(Min_Size)+\"\\n\")\n",
    "    f.write(str(Max_Size)+\"\\n\")\n",
    "    f.write(str(Examples_per_program)+\"\\n\")\n",
    "    f.write(str(Repeation_Time)+\"\\n\")"
   ]
  },
  {
   "cell_type": "code",
   "execution_count": 9,
   "id": "spread-marsh",
   "metadata": {},
   "outputs": [],
   "source": [
    "os.remove(\"../Data/1/Execution_Fail.txt\") \n",
    "for i in range(0,1):#len(_Programs)):\n",
    "    for j in range(0,Examples_per_program):\n",
    "        size = int(Min_Size+_Jump*j)\n",
    "        pth = _Features[i]+str(size)\n",
    "        for k in range(0,Repeation_Time):\n",
    "            #Reading Csv before cpu execution\n",
    "            with open(\"../Data/1/Execution_Data.csv\", \"r\") as f:\n",
    "                file_O = f.readlines()\n",
    "            #Cmd to run program for cpu execution\n",
    "            cmd = \"./\"+_Programs[i][0]+\".out \"+str(size)+\" \"+str(_CPU)+\" \"+_CPU_Platform+\" \"+pth\n",
    "            os.system(cmd)\n",
    "            #Reading Csv after cpu execution\n",
    "            with open(\"../Data/1/Execution_Data.csv\", \"r\") as f:\n",
    "                file_C = f.readlines()\n",
    "            # Checking failure and saving data if failed \n",
    "            if(len(file_C)==len(file_O)):\n",
    "                with open(\"../Data/1/Execution_Fail.txt\", \"a\") as f:\n",
    "                    f.write( str(cmd)+\"\\n\" )\n",
    "            #Cmd to run program for gpu execution       \n",
    "            cmd = \"./\"+_Programs[i][0]+\".out \"+str(size)+\" \"+str(_GPU)+\" \"+_GPU_Platform+\" \"+pth\n",
    "            os.system(cmd)\n",
    "            #Reading Csv before gpu execution\n",
    "            with open(\"../Data/1/Execution_Data.csv\", \"r\") as f:\n",
    "                file_G = f.readlines()\n",
    "            # Checking failure and saving data if failed \n",
    "            if(len(file_C)==len(file_G)):\n",
    "                with open(\"../Data/1/Execution_Fail.txt\", \"a\") as f:\n",
    "\n",
    "                    f.write( str(cmd)+\"\\n\" )\n",
    "            with open(\"../Data/1/Resume_Index.txt\", \"w\") as f:\n",
    "                f.write(str(i)+\",\"+str(j)+\",\"+str(k))"
   ]
  },
  {
   "cell_type": "code",
   "execution_count": null,
   "id": "quarterly-delight",
   "metadata": {},
   "outputs": [],
   "source": []
  }
 ],
 "metadata": {
  "kernelspec": {
   "display_name": "Python 3",
   "language": "python",
   "name": "python3"
  },
  "language_info": {
   "codemirror_mode": {
    "name": "ipython",
    "version": 3
   },
   "file_extension": ".py",
   "mimetype": "text/x-python",
   "name": "python",
   "nbconvert_exporter": "python",
   "pygments_lexer": "ipython3",
   "version": "3.6.9"
  }
 },
 "nbformat": 4,
 "nbformat_minor": 5
}
