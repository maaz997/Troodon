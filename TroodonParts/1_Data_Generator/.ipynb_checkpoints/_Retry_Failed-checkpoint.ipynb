{
 "cells": [
  {
   "cell_type": "code",
   "execution_count": 4,
   "id": "controversial-brooklyn",
   "metadata": {},
   "outputs": [
    {
     "name": "stdout",
     "output_type": "stream",
     "text": [
      "['./Matrix_Addition.out 10000 1 1 1-0-0-2-1-0-1-1-0-0-0-1-1-0-0-2-4-1-13-8-13-0-0-8-2000-1000-10000\\n', './Matrix_Addition.out 17000 1 1 1-0-0-2-1-0-1-1-0-0-0-1-1-0-0-2-4-1-13-8-13-0-0-8-2000-1000-17000\\n', './Matrix_Subtraction.out 10000 1 1 1-0-0-2-1-0-1-1-0-0-0-0-1-1-0-2-4-1-13-8-13-0-0-8-2000-1000-10000\\n', './Matrix_Subtraction.out 17000 1 1 1-0-0-2-1-0-1-1-0-0-0-0-1-1-0-2-4-1-13-8-13-0-0-8-2000-1000-17000\\n', './Matrix_Multiplication.out 10000 1 1 1-3-0-2-1-1-4-3-0-0-1-1-4-0-0-2-4-4-27-10-17-0-0-8-2000-1000-10000\\n', './Matrix_Multiplication.out 17000 1 1 1-3-0-2-1-1-4-3-0-0-1-1-4-0-0-2-4-4-27-10-17-0-0-8-2000-1000-17000\\n', './Matrix_Transpose.out 10000 1 1 1-0-0-1-1-0-2-2-0-0-0-0-2-0-0-2-4-1-15-6-16-0-0-8-2000-1000-10000\\n', './Matrix_Transpose.out 17000 1 1 1-0-0-1-1-0-2-2-0-0-0-0-2-0-0-2-4-1-15-6-16-0-0-8-2000-1000-17000\\n']\n"
     ]
    }
   ],
   "source": []
  },
  {
   "cell_type": "code",
   "execution_count": 7,
   "id": "saved-solution",
   "metadata": {},
   "outputs": [
    {
     "ename": "NameError",
     "evalue": "name 'os' is not defined",
     "output_type": "error",
     "traceback": [
      "\u001b[0;31m---------------------------------------------------------------------------\u001b[0m",
      "\u001b[0;31mNameError\u001b[0m                                 Traceback (most recent call last)",
      "\u001b[0;32m<ipython-input-7-721a8db66228>\u001b[0m in \u001b[0;36m<module>\u001b[0;34m\u001b[0m\n\u001b[1;32m      6\u001b[0m                 \u001b[0mfile_S\u001b[0m \u001b[0;34m=\u001b[0m \u001b[0mf\u001b[0m\u001b[0;34m.\u001b[0m\u001b[0mreadlines\u001b[0m\u001b[0;34m(\u001b[0m\u001b[0;34m)\u001b[0m\u001b[0;34m\u001b[0m\u001b[0;34m\u001b[0m\u001b[0m\n\u001b[1;32m      7\u001b[0m     \u001b[0mcmd\u001b[0m \u001b[0;34m=\u001b[0m \u001b[0mval\u001b[0m\u001b[0;34m.\u001b[0m\u001b[0mstrip\u001b[0m\u001b[0;34m(\u001b[0m\u001b[0;34m)\u001b[0m\u001b[0;34m\u001b[0m\u001b[0;34m\u001b[0m\u001b[0m\n\u001b[0;32m----> 8\u001b[0;31m     \u001b[0mos\u001b[0m\u001b[0;34m.\u001b[0m\u001b[0msystem\u001b[0m\u001b[0;34m(\u001b[0m\u001b[0mcmd\u001b[0m\u001b[0;34m)\u001b[0m\u001b[0;34m\u001b[0m\u001b[0;34m\u001b[0m\u001b[0m\n\u001b[0m\u001b[1;32m      9\u001b[0m     \u001b[0;31m#Reading Csv before after execution\u001b[0m\u001b[0;34m\u001b[0m\u001b[0;34m\u001b[0m\u001b[0;34m\u001b[0m\u001b[0m\n\u001b[1;32m     10\u001b[0m     \u001b[0;32mwith\u001b[0m \u001b[0mopen\u001b[0m\u001b[0;34m(\u001b[0m\u001b[0;34m\"../Data/1/Execution_Data.csv\"\u001b[0m\u001b[0;34m,\u001b[0m \u001b[0;34m\"r\"\u001b[0m\u001b[0;34m)\u001b[0m \u001b[0;32mas\u001b[0m \u001b[0mf\u001b[0m\u001b[0;34m:\u001b[0m\u001b[0;34m\u001b[0m\u001b[0;34m\u001b[0m\u001b[0m\n",
      "\u001b[0;31mNameError\u001b[0m: name 'os' is not defined"
     ]
    }
   ],
   "source": [
    "import os\n",
    "with open(\"../Data/1/Execution_Fail.txt\", \"r\") as f:\n",
    "    file = f.readlines()\n",
    "with open(\"../Data/1/Execution_Fail.txt\", \"w\") as f:\n",
    "    f.write(\"\")\n",
    "for val in file:\n",
    "    #Reading Csv before execution\n",
    "    with open(\"../Data/1/Execution_Data.csv\", \"r\") as f:\n",
    "                file_S = f.readlines()\n",
    "    cmd = val.strip()\n",
    "    os.system(cmd)\n",
    "    #Reading Csv before after execution\n",
    "    with open(\"../Data/1/Execution_Data.csv\", \"r\") as f:\n",
    "                file_E = f.readlines()\n",
    "    # Checking failure and saving data if failed \n",
    "    if(len(file_S)==len(file_E)):\n",
    "        with open(\"../Data/1/Execution_Fail.txt\", \"a\") as f:\n",
    "            f.write( str(cmd)+\"\\n\" )"
   ]
  },
  {
   "cell_type": "code",
   "execution_count": null,
   "id": "northern-moore",
   "metadata": {},
   "outputs": [],
   "source": []
  }
 ],
 "metadata": {
  "kernelspec": {
   "display_name": "Python 3",
   "language": "python",
   "name": "python3"
  },
  "language_info": {
   "codemirror_mode": {
    "name": "ipython",
    "version": 3
   },
   "file_extension": ".py",
   "mimetype": "text/x-python",
   "name": "python",
   "nbconvert_exporter": "python",
   "pygments_lexer": "ipython3",
   "version": "3.6.9"
  }
 },
 "nbformat": 4,
 "nbformat_minor": 5
}
