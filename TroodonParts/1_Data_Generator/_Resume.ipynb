{
 "cells": [
  {
   "cell_type": "code",
   "execution_count": 26,
   "id": "sorted-engagement",
   "metadata": {},
   "outputs": [],
   "source": [
    "with open(\"../Data/1/Resume_Data.txt\", \"r\") as f:\n",
    "     file = f.readlines()\n",
    "_Features = []\n",
    "pause_feature = file[1]\n",
    "for val in pause_feature.strip().split(\",\"):\n",
    "    _Features.append(val)\n",
    "_Programs = []\n",
    "pause_programs = file[0]\n",
    "for val in pause_programs.strip().split(\",\"):\n",
    "    _Programs.append(val.split('-'))\n",
    "#Training Data Setup\n",
    "Min_Size = int(file[2])\n",
    "Max_Size = int(file[3])\n",
    "Examples_per_program = int(file[4])\n",
    "Repeation_Time = int(file[5])\n",
    "_Jump = int((Max_Size-Min_Size)/(Examples_per_program-1))\n",
    "with open(\"../Data/1/Resume_Index.txt\", \"r\") as f:\n",
    "     file = f.read().split(',')\n",
    "c_i = int(file[0])\n",
    "c_j = int(file[1])\n",
    "c_k = int(file[2])"
   ]
  },
  {
   "cell_type": "code",
   "execution_count": 27,
   "id": "beginning-discovery",
   "metadata": {},
   "outputs": [
    {
     "name": "stdout",
     "output_type": "stream",
     "text": [
      "['1-0-0-2-1-0-1-1-0-0-0-1-1-0-0-2-4-1-13-8-13-0-0-8-2000-1000-', '1-0-0-2-1-0-1-1-0-0-0-0-1-1-0-2-4-1-13-8-13-0-0-8-2000-1000-', '1-3-0-2-1-1-4-3-0-0-1-1-4-0-0-2-4-4-27-10-17-0-0-8-2000-1000-', '1-0-0-1-1-0-2-2-0-0-0-0-2-0-0-2-4-1-15-6-16-0-0-8-2000-1000-'] [['Matrix_Addition', 'matrixadd_host.cpp', 'matrixadd_kernel.cl'], ['Matrix_Subtraction', 'matrixsub_host.cpp', 'matrixsub_kernel.cl'], ['Matrix_Multiplication', 'matrixmul_host.cpp', 'matrixmul_kernel.cl'], ['Matrix_Transpose', 'matrixT_host.cpp', 'matrixT_kernel.cl']] 10000 17000 2 1 7000 3 1 0\n"
     ]
    }
   ],
   "source": [
    "print(_Features,_Programs,Min_Size,Max_Size,Examples_per_program,Repeation_Time,_Jump,c_i,c_j,c_k)"
   ]
  },
  {
   "cell_type": "code",
   "execution_count": 28,
   "id": "governmental-flash",
   "metadata": {},
   "outputs": [],
   "source": [
    "for i in range(0,len(_Programs)):\n",
    "    if(i<=c_i):\n",
    "        continue\n",
    "    for j in range(0,Examples_per_program):\n",
    "        if(j<=c_j):\n",
    "            continue\n",
    "        size = int(Min_Size+_Jump*j)\n",
    "        pth = _Features[i]+str(size)\n",
    "        for k in range(0,Repeation_Time):\n",
    "            if(k<=c_k):\n",
    "                continue\n",
    "            #Reading Csv before cpu execution\n",
    "            with open(\"../Data/1/Execution_Data.csv\", \"r\") as f:\n",
    "                file_O = f.readlines()\n",
    "            #Cmd to run program for cpu execution\n",
    "            cmd = \"./\"+_Programs[i][0]+\".out \"+str(size)+\" \"+str(_CPU)+\" \"+_CPU_Platform+\" \"+pth\n",
    "            os.system(cmd)\n",
    "            #Reading Csv after cpu execution\n",
    "            with open(\"../Data/1/Execution_Data.csv\", \"r\") as f:\n",
    "                file_C = f.readlines()\n",
    "            # Checking failure and saving data if failed \n",
    "            if(len(file_C)==len(file_O)):\n",
    "                with open(\"../Data/1/Execution_Fail.txt\", \"a\") as f:\n",
    "                    f.write( str(cmd)+\"\\n\" )\n",
    "            #Cmd to run program for gpu execution       \n",
    "            cmd = \"./\"+_Programs[i][0]+\".out \"+str(size)+\" \"+str(_GPU)+\" \"+_GPU_Platform+\" \"+pth\n",
    "            os.system(cmd)\n",
    "            #Reading Csv before gpu execution\n",
    "            with open(\"../Data/1/Execution_Data.csv\", \"r\") as f:\n",
    "                file_G = f.readlines()\n",
    "            # Checking failure and saving data if failed \n",
    "            if(len(file_C)==len(file_G)):\n",
    "                with open(\"../Data/1/Execution_Fail.txt\", \"a\") as f:\n",
    "\n",
    "                    f.write( str(cmd)+\"\\n\" )\n",
    "            with open(\"../Data/1/Resume_Index.txt\", \"w\") as f:\n",
    "                f.write(str(i)+\",\"+str(j)+\",\"+str(k))"
   ]
  }
 ],
 "metadata": {
  "kernelspec": {
   "display_name": "Python 3",
   "language": "python",
   "name": "python3"
  },
  "language_info": {
   "codemirror_mode": {
    "name": "ipython",
    "version": 3
   },
   "file_extension": ".py",
   "mimetype": "text/x-python",
   "name": "python",
   "nbconvert_exporter": "python",
   "pygments_lexer": "ipython3",
   "version": "3.6.9"
  }
 },
 "nbformat": 4,
 "nbformat_minor": 5
}
