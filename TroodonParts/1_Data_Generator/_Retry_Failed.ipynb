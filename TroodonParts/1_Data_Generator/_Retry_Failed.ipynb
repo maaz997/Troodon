{
 "cells": [
  {
   "cell_type": "code",
   "execution_count": 10,
   "id": "built-porcelain",
   "metadata": {},
   "outputs": [],
   "source": [
    "import os\n",
    "with open(\"../Data/1/Execution_Fail.txt\", \"r\") as f:\n",
    "    file = f.readlines()\n",
    "with open(\"../Data/1/Execution_Fail.txt\", \"w\") as f:\n",
    "    f.write(\"\")\n",
    "for val in file:\n",
    "    #Reading Csv before execution\n",
    "    with open(\"../Data/1/Execution_Data.csv\", \"r\") as f:\n",
    "                file_S = f.readlines()\n",
    "    cmd = val.strip()\n",
    "    os.system(cmd)\n",
    "    #Reading Csv before after execution\n",
    "    with open(\"../Data/1/Execution_Data.csv\", \"r\") as f:\n",
    "                file_E = f.readlines()\n",
    "    # Checking failure and saving data if failed \n",
    "    if(len(file_S)==len(file_E)):\n",
    "        with open(\"../Data/1/Execution_Fail.txt\", \"a\") as f:\n",
    "            f.write( str(cmd)+\"\\n\" )"
   ]
  },
  {
   "cell_type": "code",
   "execution_count": null,
   "id": "liberal-prisoner",
   "metadata": {},
   "outputs": [],
   "source": []
  }
 ],
 "metadata": {
  "kernelspec": {
   "display_name": "Python 3",
   "language": "python",
   "name": "python3"
  },
  "language_info": {
   "codemirror_mode": {
    "name": "ipython",
    "version": 3
   },
   "file_extension": ".py",
   "mimetype": "text/x-python",
   "name": "python",
   "nbconvert_exporter": "python",
   "pygments_lexer": "ipython3",
   "version": "3.6.9"
  }
 },
 "nbformat": 4,
 "nbformat_minor": 5
}
